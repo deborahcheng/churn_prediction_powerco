{
 "cells": [
  {
   "cell_type": "markdown",
   "metadata": {},
   "source": [
    "# Load Library"
   ]
  },
  {
   "cell_type": "code",
   "execution_count": 1,
   "metadata": {},
   "outputs": [],
   "source": [
    "import pandas as pd\n",
    "import numpy as np"
   ]
  },
  {
   "cell_type": "code",
   "execution_count": 2,
   "metadata": {},
   "outputs": [],
   "source": [
    "train_sme = pd.read_csv(\"input/Training_SME_data.csv\", index_col = 0,\n",
    "                        parse_dates = [\"date_activ\", \"date_end\", \"date_first_activ\", \"date_modif_prod\", \"date_renewal\"])\n",
    "train_target = pd.read_csv(\"input/Training_TARGET.csv\")\n",
    "train_price = pd.read_csv(\"input/Training_PRICE_hist.csv\", parse_dates = [\"price_date\"])\n",
    "test_sme = pd.read_csv(\"input/Test_SME_data.csv\", index_col = 0, \n",
    "                        parse_dates = [\"date_activ\", \"date_end\", \"date_first_activ\", \"date_modif_prod\", \"date_renewal\"])\n",
    "test_price = pd.read_csv(\"input/Test_PRICE_hist.csv\", parse_dates = [\"price_date\"])"
   ]
  },
  {
   "cell_type": "code",
   "execution_count": 3,
   "metadata": {},
   "outputs": [],
   "source": [
    "joined_train = train_sme.join(train_target.set_index(\"id\"), how = \"left\", on = \"id\", sort = False)"
   ]
  },
  {
   "cell_type": "markdown",
   "metadata": {},
   "source": [
    "# Basic EDA"
   ]
  },
  {
   "cell_type": "code",
   "execution_count": null,
   "metadata": {},
   "outputs": [],
   "source": [
    "joined_train.head()"
   ]
  },
  {
   "cell_type": "code",
   "execution_count": 4,
   "metadata": {},
   "outputs": [
    {
     "data": {
      "text/plain": [
       "(16083, 35)"
      ]
     },
     "execution_count": 4,
     "metadata": {},
     "output_type": "execute_result"
    }
   ],
   "source": [
    "joined_train.shape"
   ]
  },
  {
   "cell_type": "code",
   "execution_count": 5,
   "metadata": {},
   "outputs": [
    {
     "data": {
      "text/plain": [
       "(4016, 34)"
      ]
     },
     "execution_count": 5,
     "metadata": {},
     "output_type": "execute_result"
    }
   ],
   "source": [
    "test_sme.shape"
   ]
  },
  {
   "cell_type": "code",
   "execution_count": 6,
   "metadata": {},
   "outputs": [
    {
     "data": {
      "text/plain": [
       "Index(['id', 'channel_sales', 'date_activ', 'date_end', 'date_first_activ',\n",
       "       'date_modif_prod', 'date_renewal', 'has_gas', 'origin_up', 'isic_1l'],\n",
       "      dtype='object')"
      ]
     },
     "execution_count": 6,
     "metadata": {},
     "output_type": "execute_result"
    }
   ],
   "source": [
    "joined_train.select_dtypes(exclude = [\"int64\", \"float64\"]).columns"
   ]
  },
  {
   "cell_type": "code",
   "execution_count": 7,
   "metadata": {},
   "outputs": [
    {
     "data": {
      "text/html": [
       "<div>\n",
       "<style scoped>\n",
       "    .dataframe tbody tr th:only-of-type {\n",
       "        vertical-align: middle;\n",
       "    }\n",
       "\n",
       "    .dataframe tbody tr th {\n",
       "        vertical-align: top;\n",
       "    }\n",
       "\n",
       "    .dataframe thead th {\n",
       "        text-align: right;\n",
       "    }\n",
       "</style>\n",
       "<table border=\"1\" class=\"dataframe\">\n",
       "  <thead>\n",
       "    <tr style=\"text-align: right;\">\n",
       "      <th></th>\n",
       "      <th>campaign_disc_ele</th>\n",
       "      <th>cons_12m</th>\n",
       "      <th>cons_gas_12m</th>\n",
       "      <th>cons_last_month</th>\n",
       "      <th>forecast_base_bill_ele</th>\n",
       "      <th>forecast_base_bill_year</th>\n",
       "      <th>forecast_bill_12m</th>\n",
       "      <th>forecast_cons</th>\n",
       "      <th>forecast_cons_12m</th>\n",
       "      <th>forecast_cons_year</th>\n",
       "      <th>...</th>\n",
       "      <th>imp_cons</th>\n",
       "      <th>margin_gross_pow_ele</th>\n",
       "      <th>margin_net_pow_ele</th>\n",
       "      <th>nb_prod_act</th>\n",
       "      <th>net_margin</th>\n",
       "      <th>num_years_antig</th>\n",
       "      <th>pow_max</th>\n",
       "      <th>isic_2l</th>\n",
       "      <th>zip</th>\n",
       "      <th>churn</th>\n",
       "    </tr>\n",
       "  </thead>\n",
       "  <tbody>\n",
       "    <tr>\n",
       "      <th>count</th>\n",
       "      <td>0.0</td>\n",
       "      <td>1.608300e+04</td>\n",
       "      <td>1.608300e+04</td>\n",
       "      <td>1.608300e+04</td>\n",
       "      <td>3503.000000</td>\n",
       "      <td>3503.000000</td>\n",
       "      <td>3503.000000</td>\n",
       "      <td>3503.000000</td>\n",
       "      <td>16083.000000</td>\n",
       "      <td>16083.000000</td>\n",
       "      <td>...</td>\n",
       "      <td>16083.000000</td>\n",
       "      <td>16070.000000</td>\n",
       "      <td>16070.000000</td>\n",
       "      <td>16083.000000</td>\n",
       "      <td>16068.000000</td>\n",
       "      <td>16083.000000</td>\n",
       "      <td>16080.000000</td>\n",
       "      <td>16083.000000</td>\n",
       "      <td>16083.000000</td>\n",
       "      <td>16083.000000</td>\n",
       "    </tr>\n",
       "    <tr>\n",
       "      <th>mean</th>\n",
       "      <td>NaN</td>\n",
       "      <td>1.948602e+05</td>\n",
       "      <td>3.191410e+04</td>\n",
       "      <td>1.947150e+04</td>\n",
       "      <td>336.194028</td>\n",
       "      <td>336.194028</td>\n",
       "      <td>3840.852534</td>\n",
       "      <td>207.083077</td>\n",
       "      <td>2371.328950</td>\n",
       "      <td>1907.928931</td>\n",
       "      <td>...</td>\n",
       "      <td>196.200073</td>\n",
       "      <td>22.463318</td>\n",
       "      <td>21.460549</td>\n",
       "      <td>1.347945</td>\n",
       "      <td>218.041126</td>\n",
       "      <td>5.030280</td>\n",
       "      <td>20.608722</td>\n",
       "      <td>56.334390</td>\n",
       "      <td>25891.719642</td>\n",
       "      <td>0.098738</td>\n",
       "    </tr>\n",
       "    <tr>\n",
       "      <th>std</th>\n",
       "      <td>NaN</td>\n",
       "      <td>6.797482e+05</td>\n",
       "      <td>1.776496e+05</td>\n",
       "      <td>8.238827e+04</td>\n",
       "      <td>649.789390</td>\n",
       "      <td>649.789390</td>\n",
       "      <td>5428.780279</td>\n",
       "      <td>455.911648</td>\n",
       "      <td>4036.347499</td>\n",
       "      <td>5259.170178</td>\n",
       "      <td>...</td>\n",
       "      <td>494.533188</td>\n",
       "      <td>23.708260</td>\n",
       "      <td>27.926788</td>\n",
       "      <td>1.460352</td>\n",
       "      <td>366.849718</td>\n",
       "      <td>1.676154</td>\n",
       "      <td>21.780167</td>\n",
       "      <td>24.933267</td>\n",
       "      <td>13381.988840</td>\n",
       "      <td>0.298319</td>\n",
       "    </tr>\n",
       "    <tr>\n",
       "      <th>min</th>\n",
       "      <td>NaN</td>\n",
       "      <td>-1.252760e+05</td>\n",
       "      <td>-3.037000e+03</td>\n",
       "      <td>-9.138600e+04</td>\n",
       "      <td>-364.940000</td>\n",
       "      <td>-364.940000</td>\n",
       "      <td>-2503.480000</td>\n",
       "      <td>0.000000</td>\n",
       "      <td>-16689.260000</td>\n",
       "      <td>-85627.000000</td>\n",
       "      <td>...</td>\n",
       "      <td>-9038.210000</td>\n",
       "      <td>-525.540000</td>\n",
       "      <td>-615.660000</td>\n",
       "      <td>1.000000</td>\n",
       "      <td>-4148.990000</td>\n",
       "      <td>1.000000</td>\n",
       "      <td>1.000000</td>\n",
       "      <td>1.000000</td>\n",
       "      <td>1002.000000</td>\n",
       "      <td>0.000000</td>\n",
       "    </tr>\n",
       "    <tr>\n",
       "      <th>25%</th>\n",
       "      <td>NaN</td>\n",
       "      <td>5.899000e+03</td>\n",
       "      <td>0.000000e+00</td>\n",
       "      <td>0.000000e+00</td>\n",
       "      <td>0.000000</td>\n",
       "      <td>0.000000</td>\n",
       "      <td>1158.190000</td>\n",
       "      <td>0.000000</td>\n",
       "      <td>513.280000</td>\n",
       "      <td>0.000000</td>\n",
       "      <td>...</td>\n",
       "      <td>0.000000</td>\n",
       "      <td>11.950000</td>\n",
       "      <td>11.950000</td>\n",
       "      <td>1.000000</td>\n",
       "      <td>51.970000</td>\n",
       "      <td>4.000000</td>\n",
       "      <td>12.500000</td>\n",
       "      <td>43.000000</td>\n",
       "      <td>15388.000000</td>\n",
       "      <td>0.000000</td>\n",
       "    </tr>\n",
       "    <tr>\n",
       "      <th>50%</th>\n",
       "      <td>NaN</td>\n",
       "      <td>1.533200e+04</td>\n",
       "      <td>0.000000e+00</td>\n",
       "      <td>9.000000e+02</td>\n",
       "      <td>163.020000</td>\n",
       "      <td>163.020000</td>\n",
       "      <td>2187.850000</td>\n",
       "      <td>42.240000</td>\n",
       "      <td>1179.750000</td>\n",
       "      <td>378.000000</td>\n",
       "      <td>...</td>\n",
       "      <td>44.510000</td>\n",
       "      <td>21.090000</td>\n",
       "      <td>20.970000</td>\n",
       "      <td>1.000000</td>\n",
       "      <td>119.725000</td>\n",
       "      <td>5.000000</td>\n",
       "      <td>13.856000</td>\n",
       "      <td>55.000000</td>\n",
       "      <td>27888.000000</td>\n",
       "      <td>0.000000</td>\n",
       "    </tr>\n",
       "    <tr>\n",
       "      <th>75%</th>\n",
       "      <td>NaN</td>\n",
       "      <td>5.018100e+04</td>\n",
       "      <td>0.000000e+00</td>\n",
       "      <td>4.125000e+03</td>\n",
       "      <td>396.205000</td>\n",
       "      <td>396.205000</td>\n",
       "      <td>4248.255000</td>\n",
       "      <td>228.195000</td>\n",
       "      <td>2692.495000</td>\n",
       "      <td>1995.000000</td>\n",
       "      <td>...</td>\n",
       "      <td>218.170000</td>\n",
       "      <td>29.640000</td>\n",
       "      <td>29.640000</td>\n",
       "      <td>1.000000</td>\n",
       "      <td>275.892500</td>\n",
       "      <td>6.000000</td>\n",
       "      <td>19.800000</td>\n",
       "      <td>78.000000</td>\n",
       "      <td>33888.000000</td>\n",
       "      <td>0.000000</td>\n",
       "    </tr>\n",
       "    <tr>\n",
       "      <th>max</th>\n",
       "      <td>NaN</td>\n",
       "      <td>1.609711e+07</td>\n",
       "      <td>4.188440e+06</td>\n",
       "      <td>4.538720e+06</td>\n",
       "      <td>12566.080000</td>\n",
       "      <td>12566.080000</td>\n",
       "      <td>81122.630000</td>\n",
       "      <td>9682.890000</td>\n",
       "      <td>103801.930000</td>\n",
       "      <td>175375.000000</td>\n",
       "      <td>...</td>\n",
       "      <td>15042.790000</td>\n",
       "      <td>374.640000</td>\n",
       "      <td>374.640000</td>\n",
       "      <td>32.000000</td>\n",
       "      <td>24570.650000</td>\n",
       "      <td>16.000000</td>\n",
       "      <td>500.000000</td>\n",
       "      <td>96.000000</td>\n",
       "      <td>50830.000000</td>\n",
       "      <td>1.000000</td>\n",
       "    </tr>\n",
       "  </tbody>\n",
       "</table>\n",
       "<p>8 rows × 25 columns</p>\n",
       "</div>"
      ],
      "text/plain": [
       "       campaign_disc_ele      cons_12m  cons_gas_12m  cons_last_month  \\\n",
       "count                0.0  1.608300e+04  1.608300e+04     1.608300e+04   \n",
       "mean                 NaN  1.948602e+05  3.191410e+04     1.947150e+04   \n",
       "std                  NaN  6.797482e+05  1.776496e+05     8.238827e+04   \n",
       "min                  NaN -1.252760e+05 -3.037000e+03    -9.138600e+04   \n",
       "25%                  NaN  5.899000e+03  0.000000e+00     0.000000e+00   \n",
       "50%                  NaN  1.533200e+04  0.000000e+00     9.000000e+02   \n",
       "75%                  NaN  5.018100e+04  0.000000e+00     4.125000e+03   \n",
       "max                  NaN  1.609711e+07  4.188440e+06     4.538720e+06   \n",
       "\n",
       "       forecast_base_bill_ele  forecast_base_bill_year  forecast_bill_12m  \\\n",
       "count             3503.000000              3503.000000        3503.000000   \n",
       "mean               336.194028               336.194028        3840.852534   \n",
       "std                649.789390               649.789390        5428.780279   \n",
       "min               -364.940000              -364.940000       -2503.480000   \n",
       "25%                  0.000000                 0.000000        1158.190000   \n",
       "50%                163.020000               163.020000        2187.850000   \n",
       "75%                396.205000               396.205000        4248.255000   \n",
       "max              12566.080000             12566.080000       81122.630000   \n",
       "\n",
       "       forecast_cons  forecast_cons_12m  forecast_cons_year  ...  \\\n",
       "count    3503.000000       16083.000000        16083.000000  ...   \n",
       "mean      207.083077        2371.328950         1907.928931  ...   \n",
       "std       455.911648        4036.347499         5259.170178  ...   \n",
       "min         0.000000      -16689.260000       -85627.000000  ...   \n",
       "25%         0.000000         513.280000            0.000000  ...   \n",
       "50%        42.240000        1179.750000          378.000000  ...   \n",
       "75%       228.195000        2692.495000         1995.000000  ...   \n",
       "max      9682.890000      103801.930000       175375.000000  ...   \n",
       "\n",
       "           imp_cons  margin_gross_pow_ele  margin_net_pow_ele   nb_prod_act  \\\n",
       "count  16083.000000          16070.000000        16070.000000  16083.000000   \n",
       "mean     196.200073             22.463318           21.460549      1.347945   \n",
       "std      494.533188             23.708260           27.926788      1.460352   \n",
       "min    -9038.210000           -525.540000         -615.660000      1.000000   \n",
       "25%        0.000000             11.950000           11.950000      1.000000   \n",
       "50%       44.510000             21.090000           20.970000      1.000000   \n",
       "75%      218.170000             29.640000           29.640000      1.000000   \n",
       "max    15042.790000            374.640000          374.640000     32.000000   \n",
       "\n",
       "         net_margin  num_years_antig       pow_max       isic_2l  \\\n",
       "count  16068.000000     16083.000000  16080.000000  16083.000000   \n",
       "mean     218.041126         5.030280     20.608722     56.334390   \n",
       "std      366.849718         1.676154     21.780167     24.933267   \n",
       "min    -4148.990000         1.000000      1.000000      1.000000   \n",
       "25%       51.970000         4.000000     12.500000     43.000000   \n",
       "50%      119.725000         5.000000     13.856000     55.000000   \n",
       "75%      275.892500         6.000000     19.800000     78.000000   \n",
       "max    24570.650000        16.000000    500.000000     96.000000   \n",
       "\n",
       "                zip         churn  \n",
       "count  16083.000000  16083.000000  \n",
       "mean   25891.719642      0.098738  \n",
       "std    13381.988840      0.298319  \n",
       "min     1002.000000      0.000000  \n",
       "25%    15388.000000      0.000000  \n",
       "50%    27888.000000      0.000000  \n",
       "75%    33888.000000      0.000000  \n",
       "max    50830.000000      1.000000  \n",
       "\n",
       "[8 rows x 25 columns]"
      ]
     },
     "execution_count": 7,
     "metadata": {},
     "output_type": "execute_result"
    }
   ],
   "source": [
    "joined_train.describe()"
   ]
  },
  {
   "cell_type": "markdown",
   "metadata": {},
   "source": [
    "## Correlation"
   ]
  },
  {
   "cell_type": "code",
   "execution_count": 8,
   "metadata": {},
   "outputs": [
    {
     "data": {
      "image/png": "[encoded data removed]",
      "text/plain": [
       "<Figure size 432x288 with 2 Axes>"
      ]
     },
     "metadata": {
      "needs_background": "light"
     },
     "output_type": "display_data"
    }
   ],
   "source": [
    "import seaborn as sns\n",
    "import matplotlib.pyplot as plt\n",
    "%matplotlib inline\n",
    "\n",
    "sns.heatmap(joined_train.corr(),\n",
    "            square = True, annot=False, cmap = \"coolwarm\")\n",
    "plt.show()"
   ]
  },
  {
   "cell_type": "markdown",
   "metadata": {},
   "source": [
    "We can see that several of the forecasted columns are highly correlated. The imp_cons column is also highly correlated to some of the forecasted columns. Since the forecasted columns will be dropped for modeling purpose, we will not have to deal with them at this time.\n",
    "\n",
    "The columns cons_last_month and cons_12m are also correlated, which makes sense.\n",
    "\n",
    "We can see that churn is not directly related to any single feature."
   ]
  },
  {
   "cell_type": "markdown",
   "metadata": {},
   "source": [
    "## Outliers"
   ]
  },
  {
   "cell_type": "code",
   "execution_count": 9,
   "metadata": {
    "scrolled": false
   },
   "outputs": [
    {
     "name": "stdout",
     "output_type": "stream",
     "text": [
      "cons_12m\n"
     ]
    },
    {
     "data": {
      "image/png": "[encoded data removed]",
      "text/plain": [
       "<Figure size 720x216 with 1 Axes>"
      ]
     },
     "metadata": {
      "needs_background": "light"
     },
     "output_type": "display_data"
    },
    {
     "name": "stdout",
     "output_type": "stream",
     "text": [
      "cons_gas_12m\n"
     ]
    },
    {
     "data": {
      "image/png": "[encoded data removed]",
      "text/plain": [
       "<Figure size 720x216 with 1 Axes>"
      ]
     },
     "metadata": {
      "needs_background": "light"
     },
     "output_type": "display_data"
    },
    {
     "name": "stdout",
     "output_type": "stream",
     "text": [
      "cons_last_month\n"
     ]
    },
    {
     "data": {
      "image/png": "[encoded data removed]",
      "text/plain": [
       "<Figure size 720x216 with 1 Axes>"
      ]
     },
     "metadata": {
      "needs_background": "light"
     },
     "output_type": "display_data"
    },
    {
     "name": "stdout",
     "output_type": "stream",
     "text": [
      "imp_cons\n"
     ]
    },
    {
     "data": {
      "image/png": "[encoded data removed]",
      "text/plain": [
       "<Figure size 720x216 with 1 Axes>"
      ]
     },
     "metadata": {
      "needs_background": "light"
     },
     "output_type": "display_data"
    },
    {
     "name": "stdout",
     "output_type": "stream",
     "text": [
      "margin_gross_pow_ele\n"
     ]
    },
    {
     "data": {
      "image/png": "[encoded data removed]",
      "text/plain": [
       "<Figure size 720x216 with 1 Axes>"
      ]
     },
     "metadata": {
      "needs_background": "light"
     },
     "output_type": "display_data"
    },
    {
     "name": "stdout",
     "output_type": "stream",
     "text": [
      "margin_net_pow_ele\n"
     ]
    },
    {
     "data": {
      "image/png": "[encoded data removed]",
      "text/plain": [
       "<Figure size 720x216 with 1 Axes>"
      ]
     },
     "metadata": {
      "needs_background": "light"
     },
     "output_type": "display_data"
    },
    {
     "name": "stdout",
     "output_type": "stream",
     "text": [
      "nb_prod_act\n"
     ]
    },
    {
     "data": {
      "image/png": "[encoded data removed]",
      "text/plain": [
       "<Figure size 720x216 with 1 Axes>"
      ]
     },
     "metadata": {
      "needs_background": "light"
     },
     "output_type": "display_data"
    },
    {
     "name": "stdout",
     "output_type": "stream",
     "text": [
      "net_margin\n"
     ]
    },
    {
     "data": {
      "image/png": "[encoded data removed]",
      "text/plain": [
       "<Figure size 720x216 with 1 Axes>"
      ]
     },
     "metadata": {
      "needs_background": "light"
     },
     "output_type": "display_data"
    },
    {
     "name": "stdout",
     "output_type": "stream",
     "text": [
      "num_years_antig\n"
     ]
    },
    {
     "data": {
      "image/png": "[encoded data removed]",
      "text/plain": [
       "<Figure size 720x216 with 1 Axes>"
      ]
     },
     "metadata": {
      "needs_background": "light"
     },
     "output_type": "display_data"
    },
    {
     "name": "stdout",
     "output_type": "stream",
     "text": [
      "pow_max\n"
     ]
    },
    {
     "data": {
      "image/png": "[encoded data removed]",
      "text/plain": [
       "<Figure size 720x216 with 1 Axes>"
      ]
     },
     "metadata": {
      "needs_background": "light"
     },
     "output_type": "display_data"
    }
   ],
   "source": [
    "num_cols = ['cons_12m', 'cons_gas_12m', 'cons_last_month', 'imp_cons', 'margin_gross_pow_ele', 'margin_net_pow_ele',\n",
    "            'nb_prod_act', 'net_margin', 'num_years_antig', 'pow_max']\n",
    "\n",
    "for i in num_cols :\n",
    "    print(i)\n",
    "    fig, ax = plt.subplots(figsize = (10, 3))\n",
    "    sns.boxplot(x = i, data = joined_train, width = 0.5, showmeans = True)\n",
    "    plt.show()"
   ]
  },
  {
   "cell_type": "markdown",
   "metadata": {},
   "source": [
    "# Data Cleaning"
   ]
  },
  {
   "cell_type": "markdown",
   "metadata": {},
   "source": [
    "## Uninformative Columns"
   ]
  },
  {
   "cell_type": "code",
   "execution_count": 10,
   "metadata": {},
   "outputs": [
    {
     "data": {
      "text/plain": [
       "campaign_disc_ele    0\n",
       "dtype: int64"
      ]
     },
     "execution_count": 10,
     "metadata": {},
     "output_type": "execute_result"
    }
   ],
   "source": [
    "joined_train.nunique()[joined_train.nunique() <= 1]"
   ]
  },
  {
   "cell_type": "code",
   "execution_count": 11,
   "metadata": {},
   "outputs": [],
   "source": [
    "# drop uninformative columns\n",
    "joined_train.drop([\"campaign_disc_ele\"], axis = 1, inplace = True)\n",
    "test_sme.drop([\"campaign_disc_ele\"], axis = 1, inplace = True)"
   ]
  },
  {
   "cell_type": "markdown",
   "metadata": {},
   "source": [
    "## Change Boolean Column to 0 & 1"
   ]
  },
  {
   "cell_type": "code",
   "execution_count": 12,
   "metadata": {},
   "outputs": [],
   "source": [
    "joined_train[\"has_gas\"] = joined_train[\"has_gas\"].apply(lambda x: 1 if x == \"t\" else 0)\n",
    "test_sme[\"has_gas\"] = test_sme[\"has_gas\"].apply(lambda x: 1 if x == \"t\" else 0)"
   ]
  },
  {
   "cell_type": "markdown",
   "metadata": {},
   "source": [
    "## Change Categorical Variables to String"
   ]
  },
  {
   "cell_type": "code",
   "execution_count": 13,
   "metadata": {},
   "outputs": [],
   "source": [
    "joined_train[\"isic_2l\"] = joined_train[\"isic_2l\"].astype(str)\n",
    "joined_train[\"zip\"] = joined_train[\"zip\"].astype(str)\n",
    "\n",
    "test_sme[\"isic_2l\"] = test_sme[\"isic_2l\"].astype(str)\n",
    "test_sme[\"zip\"] = test_sme[\"zip\"].astype(str)"
   ]
  },
  {
   "cell_type": "markdown",
   "metadata": {},
   "source": [
    "## Nulls"
   ]
  },
  {
   "cell_type": "code",
   "execution_count": 14,
   "metadata": {},
   "outputs": [
    {
     "data": {
      "text/plain": [
       "channel_sales               0.261954\n",
       "date_end                    0.000124\n",
       "date_first_activ            0.782192\n",
       "date_modif_prod             0.009762\n",
       "date_renewal                0.002487\n",
       "forecast_base_bill_ele      0.782192\n",
       "forecast_base_bill_year     0.782192\n",
       "forecast_bill_12m           0.782192\n",
       "forecast_cons               0.782192\n",
       "forecast_discount_energy    0.007834\n",
       "forecast_price_energy_p1    0.007834\n",
       "forecast_price_energy_p2    0.007834\n",
       "forecast_price_pow_p1       0.007834\n",
       "margin_gross_pow_ele        0.000808\n",
       "margin_net_pow_ele          0.000808\n",
       "net_margin                  0.000933\n",
       "origin_up                   0.005409\n",
       "pow_max                     0.000187\n",
       "dtype: float64"
      ]
     },
     "execution_count": 14,
     "metadata": {},
     "output_type": "execute_result"
    }
   ],
   "source": [
    "# get percentage of nulls\n",
    "null_perc = joined_train.isnull().mean()\n",
    "null_perc[null_perc > 0]"
   ]
  },
  {
   "cell_type": "code",
   "execution_count": 15,
   "metadata": {},
   "outputs": [
    {
     "data": {
      "text/plain": [
       "channel_sales                       object\n",
       "date_end                    datetime64[ns]\n",
       "date_first_activ            datetime64[ns]\n",
       "date_modif_prod             datetime64[ns]\n",
       "date_renewal                datetime64[ns]\n",
       "forecast_base_bill_ele             float64\n",
       "forecast_base_bill_year            float64\n",
       "forecast_bill_12m                  float64\n",
       "forecast_cons                      float64\n",
       "forecast_discount_energy           float64\n",
       "forecast_price_energy_p1           float64\n",
       "forecast_price_energy_p2           float64\n",
       "forecast_price_pow_p1              float64\n",
       "margin_gross_pow_ele               float64\n",
       "margin_net_pow_ele                 float64\n",
       "net_margin                         float64\n",
       "origin_up                           object\n",
       "pow_max                            float64\n",
       "dtype: object"
      ]
     },
     "execution_count": 15,
     "metadata": {},
     "output_type": "execute_result"
    }
   ],
   "source": [
    "joined_train[null_perc[null_perc > 0].index.to_list()].dtypes"
   ]
  },
  {
   "cell_type": "markdown",
   "metadata": {},
   "source": [
    "### Fill Nulls of Categorical Variables"
   ]
  },
  {
   "cell_type": "code",
   "execution_count": 16,
   "metadata": {},
   "outputs": [],
   "source": [
    "joined_train[\"channel_sales\"] = joined_train[\"channel_sales\"].fillna(\"other\")\n",
    "joined_train[\"origin_up\"] = joined_train[\"origin_up\"].fillna(\"none\")\n",
    "\n",
    "test_sme[\"channel_sales\"] = test_sme[\"channel_sales\"].fillna(\"other\")\n",
    "test_sme[\"origin_up\"] = test_sme[\"origin_up\"].fillna(\"none\")"
   ]
  },
  {
   "cell_type": "markdown",
   "metadata": {},
   "source": [
    "### Impute Nulls of Numerical Variables"
   ]
  },
  {
   "cell_type": "code",
   "execution_count": 17,
   "metadata": {},
   "outputs": [],
   "source": [
    "# impute nulls for train dataset\n",
    "joined_train[\"margin_gross_pow_ele\"] = joined_train[\"margin_gross_pow_ele\"]. \\\n",
    "                                                    fillna(joined_train.groupby([\"isic_1l\"])[\"margin_gross_pow_ele\"]. \\\n",
    "                                                    transform(\"median\"))\n",
    "\n",
    "joined_train[\"margin_net_pow_ele\"] = joined_train[\"margin_net_pow_ele\"]. \\\n",
    "                                                fillna(joined_train.groupby([\"isic_1l\"])[\"margin_net_pow_ele\"]. \\\n",
    "                                                transform(\"median\"))\n",
    "\n",
    "joined_train[\"net_margin\"] = joined_train[\"net_margin\"]. \\\n",
    "                                            fillna(joined_train.groupby([\"isic_1l\"])[\"net_margin\"]. \\\n",
    "                                            transform(\"mean\"))\n",
    "\n",
    "joined_train[\"pow_max\"] = joined_train[\"pow_max\"]. \\\n",
    "                                        fillna(joined_train.groupby([\"isic_1l\"])[\"pow_max\"]. \\\n",
    "                                        transform(\"median\"))\n",
    "\n",
    "# impute nulls for test dataset\n",
    "test_sme[\"margin_gross_pow_ele\"] = test_sme[\"margin_gross_pow_ele\"]. \\\n",
    "                                            fillna(test_sme.groupby([\"isic_1l\"])[\"margin_gross_pow_ele\"]. \\\n",
    "                                            transform(\"median\"))\n",
    "\n",
    "test_sme[\"margin_net_pow_ele\"] = test_sme[\"margin_net_pow_ele\"]. \\\n",
    "                                        fillna(test_sme.groupby([\"isic_1l\"])[\"margin_net_pow_ele\"]. \\\n",
    "                                        transform(\"median\"))\n",
    "\n",
    "test_sme[\"net_margin\"] = test_sme[\"net_margin\"]. \\\n",
    "                                fillna(test_sme.groupby([\"isic_1l\"])[\"net_margin\"]. \\\n",
    "                                transform(\"mean\"))\n",
    "\n",
    "test_sme[\"pow_max\"] = test_sme[\"pow_max\"]. \\\n",
    "                            fillna(test_sme.groupby([\"isic_1l\"])[\"pow_max\"]. \\\n",
    "                            transform(\"median\"))"
   ]
  },
  {
   "cell_type": "markdown",
   "metadata": {},
   "source": [
    "### Impute Nulls for Dates"
   ]
  },
  {
   "cell_type": "code",
   "execution_count": 18,
   "metadata": {},
   "outputs": [],
   "source": [
    "# fill nulls for dates in training dataset\n",
    "joined_train[\"date_modif_prod\"].fillna(joined_train[\"date_activ\"], inplace = True)\n",
    "joined_train[\"date_renewal\"].fillna(joined_train[\"date_modif_prod\"], inplace = True)\n",
    "joined_train[\"date_end\"].fillna(joined_train[\"date_renewal\"], inplace = True)\n",
    "\n",
    "# fill nulls for dates in test dataset\n",
    "test_sme[\"date_modif_prod\"].fillna(test_sme[\"date_activ\"], inplace = True)\n",
    "test_sme[\"date_renewal\"].fillna(test_sme[\"date_modif_prod\"], inplace = True)\n",
    "test_sme[\"date_end\"].fillna(test_sme[\"date_renewal\"], inplace = True)"
   ]
  },
  {
   "cell_type": "code",
   "execution_count": 19,
   "metadata": {},
   "outputs": [],
   "source": [
    "# flag nans for customers without date_first_activ\n",
    "joined_train[\"date_first_activ\"] = joined_train[\"date_first_activ\"].apply(lambda x: 1 if x == x else 0).sum()\n",
    "joined_train.drop([\"date_first_activ\"], axis = 1, inplace = True)\n",
    "\n",
    "test_sme[\"date_first_activ\"] = test_sme[\"date_first_activ\"].apply(lambda x: 1 if x == x else 0).sum()\n",
    "test_sme.drop([\"date_first_activ\"], axis = 1, inplace = True)"
   ]
  },
  {
   "cell_type": "markdown",
   "metadata": {},
   "source": [
    "# Clean Price History Data"
   ]
  },
  {
   "cell_type": "code",
   "execution_count": 20,
   "metadata": {},
   "outputs": [
    {
     "data": {
      "text/plain": [
       "id                 0\n",
       "price_date         0\n",
       "price_p1_var    1359\n",
       "price_p2_var    1359\n",
       "price_p3_var    1359\n",
       "price_p1_fix    1359\n",
       "price_p2_fix    1359\n",
       "price_p3_fix    1359\n",
       "dtype: int64"
      ]
     },
     "execution_count": 20,
     "metadata": {},
     "output_type": "execute_result"
    }
   ],
   "source": [
    "train_price.isnull().sum()"
   ]
  },
  {
   "cell_type": "code",
   "execution_count": 21,
   "metadata": {},
   "outputs": [],
   "source": [
    "# create rows for missing months\n",
    "train_price = train_price.set_index(['id', 'price_date']).unstack().stack(dropna=False).reset_index()\n",
    "test_price = test_price.set_index(['id', 'price_date']).unstack().stack(dropna=False).reset_index()"
   ]
  },
  {
   "cell_type": "code",
   "execution_count": 22,
   "metadata": {},
   "outputs": [],
   "source": [
    "# Change price_p1_var, price_p2_var, price_p3_var missing values (0.7%, 1359) into '0'\n",
    "train_price[train_price['price_date'].dt.month >= 2] = train_price[train_price['price_date'].dt.month >= 2]. \\\n",
    "                                                                    fillna(method='ffill')\n",
    "train_price[train_price['price_date'].dt.month <= 2] = train_price[train_price['price_date'].dt.month <= 2]. \\\n",
    "                                                                    fillna(method='bfill')\n",
    "\n",
    "test_price[test_price['price_date'].dt.month >= 2] = test_price[test_price['price_date'].dt.month >= 2]. \\\n",
    "                                                                fillna(method='ffill')\n",
    "test_price[test_price['price_date'].dt.month <= 2] = test_price[test_price['price_date'].dt.month <= 2]. \\\n",
    "                                                                fillna(method='bfill')"
   ]
  },
  {
   "cell_type": "markdown",
   "metadata": {},
   "source": [
    "# Merge Data"
   ]
  },
  {
   "cell_type": "code",
   "execution_count": 23,
   "metadata": {},
   "outputs": [],
   "source": [
    "# drop churn column before merging data\n",
    "joined_train = joined_train.drop([\"churn\"], axis = 1)"
   ]
  },
  {
   "cell_type": "code",
   "execution_count": 24,
   "metadata": {},
   "outputs": [],
   "source": [
    "# pivot data so that each row corresponds to a unique ID\n",
    "train_price[\"price_date\"] = train_price[\"price_date\"].dt.month.astype(str)\n",
    "train_price[\"price_date\"] = train_price[\"price_date\"].apply(lambda x : (\"0\" + x) if (len(x) == 1) else x)\n",
    "train_price = train_price.pivot(index=\"id\", columns = \"price_date\", \n",
    "                                values = [\"price_p1_var\", \"price_p2_var\", \"price_p3_var\", \"price_p1_fix\",\n",
    "                                          \"price_p2_fix\", \"price_p3_fix\"])\n",
    "train_price.columns = [\"_\".join(col).rstrip() for col in train_price.columns.values]\n",
    "train_price = train_price.reset_index()\n",
    "\n",
    "test_price[\"price_date\"] = test_price[\"price_date\"].dt.month.astype(str)\n",
    "test_price[\"price_date\"] = test_price[\"price_date\"].apply(lambda x : (\"0\" + x) if (len(x) == 1) else x)\n",
    "test_price = test_price.pivot(index=\"id\", columns = \"price_date\",\n",
    "                              values = [\"price_p1_var\", \"price_p2_var\", \"price_p3_var\", \"price_p1_fix\",\n",
    "                                        \"price_p2_fix\", \"price_p3_fix\"])\n",
    "test_price.columns = [\"_\".join(col).rstrip() for col in test_price.columns.values]\n",
    "test_price = test_price.reset_index()"
   ]
  },
  {
   "cell_type": "code",
   "execution_count": 25,
   "metadata": {},
   "outputs": [
    {
     "name": "stdout",
     "output_type": "stream",
     "text": [
      "Train SME Data rows: (16083, 32)\n",
      "Train Price Data rows: (16096, 73)\n",
      "Train Price Data rows: (16096, 2)\n"
     ]
    }
   ],
   "source": [
    "print(\"Train SME Data rows:\", joined_train.shape)\n",
    "print(\"Train Price Data rows:\", train_price.shape)\n",
    "print(\"Train Price Data rows:\", train_target.shape)"
   ]
  },
  {
   "cell_type": "code",
   "execution_count": 26,
   "metadata": {},
   "outputs": [],
   "source": [
    "# join train set\n",
    "train_df = joined_train.join(train_price.set_index([\"id\"]), how = \"left\", on = \"id\", sort = False)\n",
    "train_df = train_df.join(train_target.set_index([\"id\"]), how = \"left\", on = \"id\", sort = False)"
   ]
  },
  {
   "cell_type": "code",
   "execution_count": 27,
   "metadata": {},
   "outputs": [
    {
     "name": "stdout",
     "output_type": "stream",
     "text": [
      "Same rows in SME and in joined dataset? True\n"
     ]
    }
   ],
   "source": [
    "# check join is done properly\n",
    "print(\"Same rows in SME and in joined dataset?\", joined_train.shape[0] == train_df.shape[0])"
   ]
  },
  {
   "cell_type": "code",
   "execution_count": 28,
   "metadata": {},
   "outputs": [],
   "source": [
    "# join test set\n",
    "test_df = test_sme.join(test_price.set_index([\"id\"]), how = \"left\", on = \"id\", sort = False)"
   ]
  },
  {
   "cell_type": "code",
   "execution_count": 29,
   "metadata": {},
   "outputs": [
    {
     "name": "stdout",
     "output_type": "stream",
     "text": [
      "Same rows in SME and in joined dataset? True\n"
     ]
    }
   ],
   "source": [
    "# check join is done properly\n",
    "print(\"Same rows in SME and in joined dataset?\", test_sme.shape[0] == test_df.shape[0])"
   ]
  },
  {
   "cell_type": "markdown",
   "metadata": {},
   "source": [
    "# Export to Financial"
   ]
  },
  {
   "cell_type": "code",
   "execution_count": 30,
   "metadata": {},
   "outputs": [],
   "source": [
    "# export data prior to dropping forecast columns\n",
    "train_df.to_csv(\"input/finance_train_df_v2.csv\", index = False)"
   ]
  },
  {
   "cell_type": "markdown",
   "metadata": {},
   "source": [
    "# Drop Forecasted Columns for Modeling"
   ]
  },
  {
   "cell_type": "code",
   "execution_count": 31,
   "metadata": {},
   "outputs": [],
   "source": [
    "train_df.drop([\"forecast_base_bill_ele\", \"forecast_base_bill_year\",\"forecast_bill_12m\",\n",
    "               \"forecast_cons\", \"forecast_discount_energy\",\"forecast_price_energy_p1\",\n",
    "               \"forecast_price_energy_p2\", \"forecast_price_pow_p1\", \"forecast_cons_12m\",\n",
    "               \"forecast_cons_year\", \"forecast_meter_rent_12m\"],\n",
    "              axis = 1,\n",
    "              inplace = True)\n",
    "\n",
    "test_df.drop([\"forecast_base_bill_ele\", \"forecast_base_bill_year\",\"forecast_bill_12m\",\n",
    "              \"forecast_cons\", \"forecast_discount_energy\",\"forecast_price_energy_p1\",\n",
    "              \"forecast_price_energy_p2\", \"forecast_price_pow_p1\", \"forecast_cons_12m\",\n",
    "              \"forecast_cons_year\", \"forecast_meter_rent_12m\"],\n",
    "             axis = 1,\n",
    "             inplace = True)"
   ]
  },
  {
   "cell_type": "markdown",
   "metadata": {},
   "source": [
    "# Export Cleaned Data"
   ]
  },
  {
   "cell_type": "code",
   "execution_count": 32,
   "metadata": {},
   "outputs": [],
   "source": [
    "# export data prior to dropping forecast columns\n",
    "train_df.to_csv(\"input/train_df_clean_v2.csv\", index = False)\n",
    "test_df.to_csv(\"input/test_df_clean_v2.csv\", index = False)"
   ]
  },
  {
   "cell_type": "code",
   "execution_count": null,
   "metadata": {},
   "outputs": [],
   "source": []
  },
  {
   "cell_type": "code",
   "execution_count": null,
   "metadata": {},
   "outputs": [],
   "source": []
  },
  {
   "cell_type": "code",
   "execution_count": null,
   "metadata": {},
   "outputs": [],
   "source": []
  }
 ],
 "metadata": {
  "kernelspec": {
   "display_name": "Python 3",
   "language": "python",
   "name": "python3"
  },
  "language_info": {
   "codemirror_mode": {
    "name": "ipython",
    "version": 3
   },
   "file_extension": ".py",
   "mimetype": "text/x-python",
   "name": "python",
   "nbconvert_exporter": "python",
   "pygments_lexer": "ipython3",
   "version": "3.7.3"
  }
 },
 "nbformat": 4,
 "nbformat_minor": 2
}
